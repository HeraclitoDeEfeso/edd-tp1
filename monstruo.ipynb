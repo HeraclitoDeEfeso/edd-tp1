{
 "cells": [
  {
   "cell_type": "markdown",
   "metadata": {},
   "source": [
    "# Módulo `monstruo`\n",
    "El módulo monstruo contiene la implementación de la clase Monstruo que contiene informacion como la vida restante, la cantidad de ataques especiales disponibles y los elementos que dispone.\n",
    "\n",
    "## Clase `Monstruo`\n",
    "La clase Monstruo se encarga de crear los ataques segun que elementos tenga y ademas de recibirlos, tambien se le puede preguntar cuales elementos tiene para asi crear un ataque."
   ]
  },
  {
   "cell_type": "code",
   "execution_count": 1,
   "metadata": {
    "scrolled": false
   },
   "outputs": [],
   "source": [
    "from monstruo import Monstruo\n",
    "from elemento import Elemento\n",
    "Monstruo(Elemento.TIERRA, Elemento.FUEGO)"
   ]
  },
  {
   "cell_type": "markdown",
   "metadata": {},
   "source": [
    "Un monstruo no puede crearse con dos elementos iguales o sin elementos"
   ]
  },
  {
   "cell_type": "code",
   "execution_count": 2,
   "metadata": {},
   "outputs": [],
   "source": [
    "try:\n",
    "    error_uno = Monstruo(Elemento.FUEGO, Elemento.FUEGO)\n",
    "except Exception as e:\n",
    "        print(e)"
   ]
  },
  {
   "cell_type": "code",
   "execution_count": 3,
   "metadata": {},
   "outputs": [],
   "source": [
    "try:\n",
    "    error_uno = Monstruo(Elemento.NADA, Elemento.NADA)\n",
    "except Exception as e:\n",
    "        print(e)"
   ]
  },
  {
   "cell_type": "markdown",
   "metadata": {},
   "source": [
    "## Método generar_opciones\n",
    "El método generar_opciones devuelve una lista con los elementos del Monstruo para que la batalla le pueda dar las opciones de ataque al usuario"
   ]
  },
  {
   "cell_type": "code",
   "execution_count": 4,
   "metadata": {
    "scrolled": true
   },
   "outputs": [
    {
     "data": {
      "text/plain": [
       "[<Elemento.TIERRA: ('AIRE', 'AGUA')>, <Elemento.FUEGO: ('TIERRA', 'AIRE')>]"
      ]
     },
     "execution_count": 4,
     "metadata": {},
     "output_type": "execute_result"
    }
   ],
   "source": [
    "mi_Monstruo = Monstruo(Elemento.TIERRA, Elemento.FUEGO)\n",
    "mi_Monstruo.generar_opciones()"
   ]
  },
  {
   "cell_type": "markdown",
   "metadata": {},
   "source": [
    "## Método generar_ataque\n",
    "El método generar_ataque crea un ataque con uno de los elementos con los que fue creados y lo devuelve permitiendo que la batalla se lo lanze a otro monstruo"
   ]
  },
  {
   "cell_type": "code",
   "execution_count": 5,
   "metadata": {},
   "outputs": [
    {
     "data": {
      "text/plain": [
       "<ataque.Ataque at 0x58f50d0>"
      ]
     },
     "execution_count": 5,
     "metadata": {},
     "output_type": "execute_result"
    }
   ],
   "source": [
    "mi_Monstruo.generar_ataque(Elemento.TIERRA)"
   ]
  },
  {
   "cell_type": "markdown",
   "metadata": {},
   "source": [
    "Si colocamos un elemento que el monstruo no posee se lanzara un error del que se ocupa la batalla"
   ]
  },
  {
   "cell_type": "code",
   "execution_count": 6,
   "metadata": {},
   "outputs": [
    {
     "name": "stdout",
     "output_type": "stream",
     "text": [
      "el monstruo no tiene ese elemento\n"
     ]
    }
   ],
   "source": [
    "try:\n",
    "    mi_Monstruo.generar_ataque(Elemento.AGUA)\n",
    "except Exception as e:\n",
    "        print(e)"
   ]
  }
 ],
 "metadata": {
  "kernelspec": {
   "display_name": "Python 3",
   "language": "python",
   "name": "python3"
  },
  "language_info": {
   "codemirror_mode": {
    "name": "ipython",
    "version": 3
   },
   "file_extension": ".py",
   "mimetype": "text/x-python",
   "name": "python",
   "nbconvert_exporter": "python",
   "pygments_lexer": "ipython3",
   "version": "3.7.0"
  }
 },
 "nbformat": 4,
 "nbformat_minor": 2
}
