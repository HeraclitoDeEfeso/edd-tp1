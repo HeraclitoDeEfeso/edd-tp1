{
 "cells": [
  {
   "cell_type": "markdown",
   "metadata": {},
   "source": [
    "# Módulo jugador\n",
    "El módulo jugador contiene la implementación de la clase Jugador la cual tiene como atributos un nombre y un monstruo \n",
    "\n",
    "## Clase Jugador\n",
    "La clase Jugador crea un monstruo al ser iniciada con los elementos indicados en su parametro y guarda el nombre del jugador en cuestion en su atributo nombre."
   ]
  },
  {
   "cell_type": "code",
   "execution_count": 1,
   "metadata": {},
   "outputs": [
    {
     "data": {
      "text/plain": [
       "<batalla.jugador.Jugador at 0xae4a5d0>"
      ]
     },
     "execution_count": 1,
     "metadata": {},
     "output_type": "execute_result"
    }
   ],
   "source": [
    "#Import desde directorio raiz del proyecto\n",
    "%cd -q ..\n",
    "\n",
    "from batalla.jugador import Jugador\n",
    "from batalla.elemento import Elemento\n",
    "Jugador(\"matias\", Elemento.AGUA, Elemento.FUEGO)"
   ]
  },
  {
   "cell_type": "code",
   "execution_count": 2,
   "metadata": {},
   "outputs": [
    {
     "data": {
      "text/plain": [
       "[<Elemento.AGUA: ('FUEGO', 'FUEGO')>, <Elemento.FUEGO: ('TIERRA', 'AIRE')>]"
      ]
     },
     "execution_count": 2,
     "metadata": {},
     "output_type": "execute_result"
    }
   ],
   "source": [
    "jugador = Jugador(\"matias\", Elemento.AGUA, Elemento.FUEGO)\n",
    "jugador.__monstruo__.generar_opciones()"
   ]
  },
  {
   "cell_type": "code",
   "execution_count": 3,
   "metadata": {},
   "outputs": [
    {
     "data": {
      "text/plain": [
       "'matias'"
      ]
     },
     "execution_count": 3,
     "metadata": {},
     "output_type": "execute_result"
    }
   ],
   "source": [
    "jugador.__nombre__"
   ]
  },
  {
   "cell_type": "markdown",
   "metadata": {},
   "source": [
    "### El nombre del jugador debe tener almenos 3 caracteres"
   ]
  },
  {
   "cell_type": "code",
   "execution_count": 4,
   "metadata": {},
   "outputs": [
    {
     "name": "stdout",
     "output_type": "stream",
     "text": [
      "el nombre debe tener almenos 3 caracteres\n"
     ]
    }
   ],
   "source": [
    "try:\n",
    "    jugador_perezoso = Jugador(\"mt\", Elemento.AGUA, Elemento.FUEGO)\n",
    "except Exception as e:\n",
    "    print(e)"
   ]
  },
  {
   "cell_type": "markdown",
   "metadata": {},
   "source": [
    "### Los elementos del monstruo que creara el jugador deben ser distintos"
   ]
  },
  {
   "cell_type": "code",
   "execution_count": 5,
   "metadata": {},
   "outputs": [
    {
     "name": "stdout",
     "output_type": "stream",
     "text": [
      "los elementos deben ser diferentes\n"
     ]
    }
   ],
   "source": [
    "try:\n",
    "    jugador_malicioso = Jugador(\"malicioso\", Elemento.AGUA, Elemento.AGUA)\n",
    "except Exception as e:\n",
    "    print(e)"
   ]
  },
  {
   "cell_type": "markdown",
   "metadata": {},
   "source": [
    "### El monstruo que creara el jugador debe tener almenos uno de los 4 elementos validos"
   ]
  },
  {
   "cell_type": "code",
   "execution_count": 6,
   "metadata": {},
   "outputs": [
    {
     "name": "stdout",
     "output_type": "stream",
     "text": [
      "los dos elementos no pueden ser nulos\n"
     ]
    }
   ],
   "source": [
    "try:\n",
    "    jugador_malicioso = Jugador(\"malicioso\", Elemento.NADA, Elemento.NADA)\n",
    "except Exception as e:\n",
    "    print(e)"
   ]
  }
 ],
 "metadata": {
  "kernelspec": {
   "display_name": "Python 3 (Spyder)",
   "language": "python3",
   "name": "python3"
  },
  "language_info": {
   "codemirror_mode": {
    "name": "ipython",
    "version": 3
   },
   "file_extension": ".py",
   "mimetype": "text/x-python",
   "name": "python",
   "nbconvert_exporter": "python",
   "pygments_lexer": "ipython3",
   "version": "3.7.0"
  }
 },
 "nbformat": 4,
 "nbformat_minor": 2
}
