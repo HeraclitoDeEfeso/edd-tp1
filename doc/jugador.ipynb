{
 "cells": [
  {
   "cell_type": "markdown",
   "metadata": {},
   "source": [
    "# Módulo jugador\n",
    "El módulo jugador contiene la implementación de la clase Jugador la cual tiene como atributos un nombre y un monstruo \n",
    "\n",
    "## Clase Jugador\n",
    "La clase Jugador crea un monstruo al ser iniciada con los elementos indicados en su parametro y guarda el nombre del jugador en cuestion en su atributo nombre."
   ]
  },
  {
   "cell_type": "code",
   "execution_count": null,
   "metadata": {},
   "outputs": [],
   "source": [
    "from jugador import Jugador\n",
    "from elemento import Elemento\n",
    "Jugador(\"matias\", Elemento.AGUA, Elemento.FUEGO)"
   ]
  },
  {
   "cell_type": "code",
   "execution_count": null,
   "metadata": {},
   "outputs": [],
   "source": [
    "jugador = Jugador(\"matias\", Elemento.AGUA, Elemento.FUEGO)\n",
    "jugador.__monstruo__.generar_opciones()"
   ]
  },
  {
   "cell_type": "code",
   "execution_count": null,
   "metadata": {},
   "outputs": [],
   "source": [
    "jugador.__nombre__"
   ]
  },
  {
   "cell_type": "markdown",
   "metadata": {},
   "source": [
    "### El nombre del jugador debe tener almenos 3 caracteres"
   ]
  },
  {
   "cell_type": "code",
   "execution_count": null,
   "metadata": {},
   "outputs": [],
   "source": [
    "try:\n",
    "    jugador_perezoso = Jugador(\"mt\", Elemento.AGUA, Elemento.FUEGO)\n",
    "except Exception as e:\n",
    "    print(e)"
   ]
  },
  {
   "cell_type": "markdown",
   "metadata": {},
   "source": [
    "### Los elementos del monstruo que creara el jugador deben ser distintos"
   ]
  },
  {
   "cell_type": "code",
   "execution_count": null,
   "metadata": {},
   "outputs": [],
   "source": [
    "try:\n",
    "    jugador_malicioso = Jugador(\"malicioso\", Elemento.AGUA, Elemento.AGUA)\n",
    "except Exception as e:\n",
    "    print(e)"
   ]
  },
  {
   "cell_type": "markdown",
   "metadata": {},
   "source": [
    "### El monstruo que creara el jugador debe tener almenos uno de los 4 elementos validos"
   ]
  },
  {
   "cell_type": "code",
   "execution_count": null,
   "metadata": {},
   "outputs": [],
   "source": [
    "try:\n",
    "    jugador_malicioso = Jugador(\"malicioso\", Elemento.NADA, Elemento.NADA)\n",
    "except Exception as e:\n",
    "    print(e)"
   ]
  },
  {
   "cell_type": "code",
   "execution_count": null,
   "metadata": {},
   "outputs": [],
   "source": []
  }
 ],
 "metadata": {
  "kernelspec": {
   "display_name": "Python 3",
   "language": "python",
   "name": "python3"
  },
  "language_info": {
   "codemirror_mode": {
    "name": "ipython",
    "version": 3
   },
   "file_extension": ".py",
   "mimetype": "text/x-python",
   "name": "python",
   "nbconvert_exporter": "python",
   "pygments_lexer": "ipython3",
   "version": "3.6.5"
  }
 },
 "nbformat": 4,
 "nbformat_minor": 2
}
