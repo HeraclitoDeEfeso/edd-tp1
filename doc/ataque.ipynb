{
 "cells": [
  {
   "cell_type": "markdown",
   "metadata": {},
   "source": [
    "# Módulo `ataque`\n",
    "\n",
    "El módulo `ataque` contiene la implementación de las clases `Ataque` y `Ataque_especial` que son utilizadas una vez creada la batalla como mensajes entre la interfaz de usuario y la batalla como así también entre las clases que componen el modelo de datos de la batalla.\n",
    "\n",
    "## Clase `Ataque`\n",
    "\n",
    "La clase `Ataque` sirve para capturar la acción que un jugador realiza a su turno. La eficacia de los distintos ataques dependen del elemento con el que se ha creado el ataque"
   ]
  },
  {
   "cell_type": "code",
   "execution_count": 9,
   "metadata": {},
   "outputs": [
    {
     "data": {
      "text/plain": [
       "<batalla.ataque.Ataque at 0xa1b20d0>"
      ]
     },
     "execution_count": 9,
     "metadata": {},
     "output_type": "execute_result"
    }
   ],
   "source": [
    "#Import desde directorio raiz del proyecto\n",
    "%cd -q ..\n",
    "\n",
    "from batalla.ataque import Ataque\n",
    "from batalla.elemento import Elemento\n",
    "Ataque(Elemento.AGUA)"
   ]
  },
  {
   "cell_type": "markdown",
   "metadata": {},
   "source": [
    "### Método `calcular_danio`\n",
    "\n",
    "El método `calcular_danio` devuelve el daño posible de un ataque a un monstruo compuesto de unos elementos determinado. La lista de elementos que componen el monstruo atacado deben pasarse por parámetros. \n",
    "Si el elemento del ataque está en ventaja de ataque con respecto de alguno de los elementos del monstruo enemigo, entonces el daño se incrementará."
   ]
  },
  {
   "cell_type": "code",
   "execution_count": 10,
   "metadata": {},
   "outputs": [
    {
     "data": {
      "text/plain": [
       "12.0"
      ]
     },
     "execution_count": 10,
     "metadata": {},
     "output_type": "execute_result"
    }
   ],
   "source": [
    "mi_ataque = Ataque(Elemento.AGUA)\n",
    "mi_ataque.calcular_danio([Elemento.FUEGO])"
   ]
  },
  {
   "cell_type": "markdown",
   "metadata": {},
   "source": [
    "Si el monstruo enemigo está compuesto por algún elemento que tiene ventajas en defensa con respecto al elemento atacante, entonces el daño se decrementará."
   ]
  },
  {
   "cell_type": "code",
   "execution_count": 11,
   "metadata": {},
   "outputs": [
    {
     "data": {
      "text/plain": [
       "8.0"
      ]
     },
     "execution_count": 11,
     "metadata": {},
     "output_type": "execute_result"
    }
   ],
   "source": [
    "mi_ataque.calcular_danio([Elemento.TIERRA])"
   ]
  },
  {
   "cell_type": "markdown",
   "metadata": {},
   "source": [
    "Es posible que ambas situaciones se presenten a la vez (ventaja en ataque, desventaja en defensa) por lo que el existirá una compensación y el daño será el base."
   ]
  },
  {
   "cell_type": "code",
   "execution_count": 12,
   "metadata": {},
   "outputs": [
    {
     "data": {
      "text/plain": [
       "10.0"
      ]
     },
     "execution_count": 12,
     "metadata": {},
     "output_type": "execute_result"
    }
   ],
   "source": [
    "mi_ataque.calcular_danio([Elemento.FUEGO, Elemento.TIERRA])"
   ]
  },
  {
   "cell_type": "markdown",
   "metadata": {},
   "source": [
    "### Detalles de implementación: métodos `__calcular_ventaja__`, `__ventaja_en_ataque__`, `__desventaja_en_defensa__`\n",
    "Los métodos `__ventaja_en_ataque__` y `__desventaja_en_defensa__` devuelven un booleano de acuerdo a sí el elemento del que está compuesto el ataque se encuentra en dichas situaciones con respecto a los elementos que componen el monstruo enemigo."
   ]
  },
  {
   "cell_type": "code",
   "execution_count": 13,
   "metadata": {},
   "outputs": [
    {
     "data": {
      "text/plain": [
       "True"
      ]
     },
     "execution_count": 13,
     "metadata": {},
     "output_type": "execute_result"
    }
   ],
   "source": [
    "mi_ataque.__ventaja_en_ataque__([Elemento.FUEGO, Elemento.TIERRA])"
   ]
  },
  {
   "cell_type": "code",
   "execution_count": 14,
   "metadata": {},
   "outputs": [
    {
     "data": {
      "text/plain": [
       "True"
      ]
     },
     "execution_count": 14,
     "metadata": {},
     "output_type": "execute_result"
    }
   ],
   "source": [
    "mi_ataque.__desventaja_en_defensa__([Elemento.FUEGO, Elemento.TIERRA])"
   ]
  },
  {
   "cell_type": "markdown",
   "metadata": {},
   "source": [
    "El método `__calcular_ventaja__` utiliza programación funcional de alto orden, al devolver el veinte por ciento del daño base siempre y cuando la función booleana que se le pase por parámetros devuelva un valor verdadero al aplicársele los elementos que componen el monstruo enemigo."
   ]
  },
  {
   "cell_type": "code",
   "execution_count": 15,
   "metadata": {},
   "outputs": [
    {
     "data": {
      "text/plain": [
       "2.0"
      ]
     },
     "execution_count": 15,
     "metadata": {},
     "output_type": "execute_result"
    }
   ],
   "source": [
    "mi_ataque.__calcular_ventaja__([Elemento.FUEGO, Elemento.TIERRA], mi_ataque.__ventaja_en_ataque__)"
   ]
  },
  {
   "cell_type": "markdown",
   "metadata": {},
   "source": [
    "# Clase `Ataque_especial`\n",
    "La clase `Ataque_especial` hereda de la clase `Ataque` y sobreescribe el valor del daño base en 15 "
   ]
  },
  {
   "cell_type": "code",
   "execution_count": 16,
   "metadata": {},
   "outputs": [
    {
     "data": {
      "text/plain": [
       "True"
      ]
     },
     "execution_count": 16,
     "metadata": {},
     "output_type": "execute_result"
    }
   ],
   "source": [
    "from batalla.ataque import Ataque_especial\n",
    "issubclass(Ataque_especial, Ataque)"
   ]
  },
  {
   "cell_type": "code",
   "execution_count": 17,
   "metadata": {},
   "outputs": [
    {
     "data": {
      "text/plain": [
       "15"
      ]
     },
     "execution_count": 17,
     "metadata": {},
     "output_type": "execute_result"
    }
   ],
   "source": [
    "mi_ataque_especial = Ataque_especial(Elemento.AGUA)\n",
    "mi_ataque_especial.__danio__"
   ]
  }
 ],
 "metadata": {
  "kernelspec": {
   "display_name": "Python 3 (Spyder)",
   "language": "python3",
   "name": "python3"
  },
  "language_info": {
   "codemirror_mode": {
    "name": "ipython",
    "version": 3
   },
   "file_extension": ".py",
   "mimetype": "text/x-python",
   "name": "python",
   "nbconvert_exporter": "python",
   "pygments_lexer": "ipython3",
   "version": "3.7.0"
  }
 },
 "nbformat": 4,
 "nbformat_minor": 2
}
