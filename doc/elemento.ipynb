{
 "cells": [
  {
   "cell_type": "markdown",
   "metadata": {},
   "source": [
    "# Módulo `elemento`\n",
    "\n",
    "Éste módulo contiene la implementación de la enumeración `Elemento`. En python las enumeraciones son un tipo especial de clase que hereda de la clase `Enum` del módulo estándar `enum`"
   ]
  },
  {
   "cell_type": "code",
   "execution_count": 1,
   "metadata": {},
   "outputs": [
    {
     "name": "stdout",
     "output_type": "stream",
     "text": [
      "AGUA\n",
      "TIERRA\n",
      "AIRE\n",
      "FUEGO\n",
      "NADA\n"
     ]
    }
   ],
   "source": [
    "#Import desde directorio raiz del proyecto\n",
    "%cd -q ..\n",
    "\n",
    "from batalla.elemento import Elemento\n",
    "for elem in Elemento:\n",
    "    print(elem.name)"
   ]
  },
  {
   "cell_type": "markdown",
   "metadata": {},
   "source": [
    "## Método `__str__`\n",
    "\n",
    "Rescribimos el método `__str__` para tener una representación adecuada en el menú de elección de elementos."
   ]
  },
  {
   "cell_type": "code",
   "execution_count": 2,
   "metadata": {},
   "outputs": [
    {
     "name": "stdout",
     "output_type": "stream",
     "text": [
      "Elemento AGUA: supera en ataque a FUEGO, supera en defensa a FUEGO\n"
     ]
    }
   ],
   "source": [
    "print(Elemento.AGUA)"
   ]
  },
  {
   "cell_type": "markdown",
   "metadata": {},
   "source": [
    "## Método `supera_en_ataque`\n",
    "\n",
    "El método `supera_en_ataque` toma como argumento otro elemento y nos informa si sigue el orden parcial definido en el enunciado.\n",
    "\n",
    "![Orden parcial de ataque: AGUA > FUEGO > TIERRA > AIRE](fortalezas-de-ataque.png)"
   ]
  },
  {
   "cell_type": "code",
   "execution_count": 3,
   "metadata": {},
   "outputs": [
    {
     "data": {
      "text/plain": [
       "True"
      ]
     },
     "execution_count": 3,
     "metadata": {},
     "output_type": "execute_result"
    }
   ],
   "source": [
    "Elemento.AGUA.supera_en_ataque(Elemento.FUEGO)"
   ]
  },
  {
   "cell_type": "markdown",
   "metadata": {},
   "source": [
    "## Método `supera_en_defensa`\n",
    "\n",
    "El método `supera_en_defensa` informa sobre el orden parcial de defensa.\n",
    "![Diagrama de orden parcial de ventaja en defensa: AGUA > FUEGO > AIRE > TIERRA](fortalezas-en-defensa.png)"
   ]
  },
  {
   "cell_type": "code",
   "execution_count": 4,
   "metadata": {},
   "outputs": [
    {
     "data": {
      "text/plain": [
       "False"
      ]
     },
     "execution_count": 4,
     "metadata": {},
     "output_type": "execute_result"
    }
   ],
   "source": [
    "Elemento.FUEGO.supera_en_defensa(Elemento.AGUA)"
   ]
  },
  {
   "cell_type": "markdown",
   "metadata": {},
   "source": [
    "## Detalles de implementación\n",
    "\n",
    "Para implementar ambas funciones aprovechamos que la clase `Enum` permite asignar un valor de cualquier tipo para identificar cada miembro de la enumeración, de manera que nosotros le hemos asignado una tupla indicando en su primer termino a cual elemento supera en ataque y en segundo término a cual elemento supera en defensa."
   ]
  },
  {
   "cell_type": "code",
   "execution_count": 5,
   "metadata": {},
   "outputs": [
    {
     "data": {
      "text/plain": [
       "('FUEGO', 'FUEGO')"
      ]
     },
     "execution_count": 5,
     "metadata": {},
     "output_type": "execute_result"
    }
   ],
   "source": [
    "Elemento.AGUA.value"
   ]
  }
 ],
 "metadata": {
  "kernelspec": {
   "display_name": "Python 3 (Spyder)",
   "language": "python3",
   "name": "python3"
  },
  "language_info": {
   "codemirror_mode": {
    "name": "ipython",
    "version": 3
   },
   "file_extension": ".py",
   "mimetype": "text/x-python",
   "name": "python",
   "nbconvert_exporter": "python",
   "pygments_lexer": "ipython3",
   "version": "3.7.0"
  }
 },
 "nbformat": 4,
 "nbformat_minor": 2
}
