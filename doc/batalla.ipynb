{
 "cells": [
  {
   "cell_type": "markdown",
   "metadata": {},
   "source": [
    "# Módulo `batalla`\n",
    "El módulo batalla contiene la implementación de la clase Batalla que realiza las acciones y lógica en la lucha de monstruos. Esto incluye la gestion de los jugadores, los turnos y los ataques a realizarse.\n",
    "\n"
   ]
  },
  {
   "cell_type": "markdown",
   "metadata": {},
   "source": [
    "## Clase `batalla`\n",
    "La clase batalla se encarga de crear los jugadores y de administrar la lógica del juego. Mantiene dentro de si dos variables que indican al jugador atacante y al jugador defensor. \n",
    "\n",
    "## Constructor\n",
    "La batalla recibe como argumentos obligatorios para crearse, el nombre de los jugadores y los elementos que componen a cada uno:"
   ]
  },
  {
   "cell_type": "code",
   "execution_count": 1,
   "metadata": {},
   "outputs": [
    {
     "data": {
      "text/plain": [
       "<batalla.batalla.Batalla at 0xb4da630>"
      ]
     },
     "execution_count": 1,
     "metadata": {},
     "output_type": "execute_result"
    }
   ],
   "source": [
    "#Import desde directorio raiz del proyecto\n",
    "%cd -q ..\n",
    "\n",
    "from batalla.batalla import Batalla\n",
    "from batalla.elemento import Elemento\n",
    "Batalla(\"José\",Elemento.TIERRA, Elemento.FUEGO,\"Carla\",Elemento.AGUA,Elemento.TIERRA)"
   ]
  },
  {
   "cell_type": "markdown",
   "metadata": {},
   "source": [
    "En el caso de que se ingresen nombres iguales, la batalla devuelve una excepcion del tipo ValueError:"
   ]
  },
  {
   "cell_type": "code",
   "execution_count": 2,
   "metadata": {},
   "outputs": [
    {
     "name": "stdout",
     "output_type": "stream",
     "text": [
      "Nombres de monstruo idénticos\n"
     ]
    }
   ],
   "source": [
    "try:\n",
    "    batlle = Batalla(\"Pedro\",Elemento.FUEGO, Elemento.AGUA,\"Pedro\",Elemento.TIERRA, Elemento.NADA)\n",
    "except ValueError as e:\n",
    "        print(e)"
   ]
  },
  {
   "cell_type": "markdown",
   "metadata": {},
   "source": [
    "Siguiendo el orden de los argumentos, el primer jugador ingresado, es el que se almacena en la variable __jugador_atacante__ y el segundo en la variable __jugador_defensor__"
   ]
  },
  {
   "cell_type": "code",
   "execution_count": 3,
   "metadata": {},
   "outputs": [
    {
     "name": "stdout",
     "output_type": "stream",
     "text": [
      "El jugador 1 y atacante es: José\n",
      "El jugador 2 y defensor es: Carla\n"
     ]
    }
   ],
   "source": [
    "battle1 = Batalla(\"José\",Elemento.TIERRA, Elemento.FUEGO,\"Carla\",Elemento.AGUA,Elemento.TIERRA)\n",
    "print(\"El jugador 1 y atacante es: \"+battle1.__jugador_atacante__.__nombre__)\n",
    "print(\"El jugador 2 y defensor es: \"+battle1.__jugador_defensor__.__nombre__)"
   ]
  },
  {
   "cell_type": "markdown",
   "metadata": {},
   "source": [
    "## Métodos de `batalla`\n",
    "\n",
    "## termino()\n",
    "Este método es utilizado para validar si la batalla debe continuar o no basándose en la vida restante de los jugadores. Si luego de un turno, la vitalidad de un jugador es 0 o menor, se debe finalizar el ciclo que el aplicativo use utilizando este método."
   ]
  },
  {
   "cell_type": "code",
   "execution_count": 4,
   "metadata": {},
   "outputs": [
    {
     "name": "stdout",
     "output_type": "stream",
     "text": [
      "False\n",
      "True\n"
     ]
    }
   ],
   "source": [
    "#Al crear una batalla el método devuelve Falso porque ambos jugadores estan al 100 de vitalidad.\n",
    "battle2 = Batalla(\"José\",Elemento.TIERRA, Elemento.FUEGO,\"Carla\",Elemento.AGUA,Elemento.TIERRA)\n",
    "print(battle2.termino())\n",
    "#Si el estado vital de uno de los jugadores es 0 el método devolvera True\n",
    "battle2.__jugador_atacante__.__monstruo__.__estado_vital__ = 0\n",
    "print(battle2.termino())"
   ]
  },
  {
   "cell_type": "markdown",
   "metadata": {},
   "source": [
    "## obtenerJugadorAtacante() ; obtenerJugadorDefensor()\n",
    "\n",
    "Con los metodos obtenerJugadorAtacante y obtenerJugadorDefensor obtenemos el monstruo y el nombre de cada jugador en un diccionario:"
   ]
  },
  {
   "cell_type": "code",
   "execution_count": 5,
   "metadata": {},
   "outputs": [
    {
     "name": "stdout",
     "output_type": "stream",
     "text": [
      "{'__monstruo__': <batalla.monstruo.Monstruo object at 0x09A6BD90>, '__nombre__': 'José'}\n",
      "{'__monstruo__': <batalla.monstruo.Monstruo object at 0x09A6B950>, '__nombre__': 'Carla'}\n"
     ]
    }
   ],
   "source": [
    "battle3 = Batalla(\"José\",Elemento.TIERRA, Elemento.FUEGO,\"Carla\",Elemento.AGUA,Elemento.TIERRA)\n",
    "print(battle3.obtenerJugadorAtacante())\n",
    "print(battle3.obtenerJugadorDefensor())"
   ]
  },
  {
   "cell_type": "markdown",
   "metadata": {},
   "source": [
    "## jugada(ataque)\n",
    "Este método recibe un ataque generado previamente por un monstruo, y ejecuta el procedimiento de hacer el ataque e intercambiar las posiciones entre jugador atacante/defensor."
   ]
  },
  {
   "cell_type": "code",
   "execution_count": 6,
   "metadata": {},
   "outputs": [
    {
     "name": "stdout",
     "output_type": "stream",
     "text": [
      "El jugador atacante al inicio es: José Y su vida restante es: 100\n",
      "El jugador defensor al inicio es: Carla Y su vida restante es: 100\n",
      "El jugador atacante ahora es: Carla Y su vida restante es: 90\n",
      "El jugador defensor ahora es: José Y su vida restante es: 100\n"
     ]
    }
   ],
   "source": [
    "battle4 = Batalla(\"José\",Elemento.TIERRA, Elemento.FUEGO,\"Carla\",Elemento.AGUA,Elemento.TIERRA)\n",
    "print(\"El jugador atacante al inicio es: \"+battle4.__jugador_atacante__.__nombre__+\" Y su vida restante es: \"+str(battle4.__jugador_atacante__.__monstruo__.__estado_vital__))\n",
    "print(\"El jugador defensor al inicio es: \"+battle4.__jugador_defensor__.__nombre__+\" Y su vida restante es: \"+str(battle4.__jugador_defensor__.__monstruo__.__estado_vital__))\n",
    "battle4.jugada(battle4.__jugador_atacante__.__monstruo__.generar_ataque(Elemento.TIERRA))\n",
    "print(\"El jugador atacante ahora es: \"+battle4.__jugador_atacante__.__nombre__+\" Y su vida restante es: \"+str(battle4.__jugador_atacante__.__monstruo__.__estado_vital__))\n",
    "print(\"El jugador defensor ahora es: \"+battle4.__jugador_defensor__.__nombre__+\" Y su vida restante es: \"+str(battle4.__jugador_defensor__.__monstruo__.__estado_vital__))"
   ]
  },
  {
   "cell_type": "markdown",
   "metadata": {},
   "source": [
    "En el caso de que el ataque que la batalla ya este en estado terminado, la jugada no se ejecuta y se mantiene el mismo estado"
   ]
  },
  {
   "cell_type": "code",
   "execution_count": 7,
   "metadata": {},
   "outputs": [
    {
     "name": "stdout",
     "output_type": "stream",
     "text": [
      "El jugador atacante ahora es: Carla Y su vida restante es: 0\n",
      "El jugador defensor ahora es: José Y su vida restante es: 100\n"
     ]
    }
   ],
   "source": [
    "battle4.__jugador_atacante__.__monstruo__.__estado_vital__ = 0\n",
    "battle4.jugada(battle4.__jugador_atacante__.__monstruo__.generar_ataque(Elemento.TIERRA))\n",
    "print(\"El jugador atacante ahora es: \"+battle4.__jugador_atacante__.__nombre__+\" Y su vida restante es: \"+str(battle4.__jugador_atacante__.__monstruo__.__estado_vital__))\n",
    "print(\"El jugador defensor ahora es: \"+battle4.__jugador_defensor__.__nombre__+\" Y su vida restante es: \"+str(battle4.__jugador_defensor__.__monstruo__.__estado_vital__))"
   ]
  },
  {
   "cell_type": "markdown",
   "metadata": {},
   "source": [
    "## ganador()\n",
    "Este método devuelve al jugador que esta en modo defensivo una vez que la batalla se termino."
   ]
  },
  {
   "cell_type": "code",
   "execution_count": 8,
   "metadata": {},
   "outputs": [
    {
     "name": "stdout",
     "output_type": "stream",
     "text": [
      "El jugador ganador es: José\n"
     ]
    }
   ],
   "source": [
    "print(\"El jugador ganador es: \"+battle4.ganador().__nombre__)"
   ]
  }
 ],
 "metadata": {
  "kernelspec": {
   "display_name": "Python 3 (Spyder)",
   "language": "python3",
   "name": "python3"
  },
  "language_info": {
   "codemirror_mode": {
    "name": "ipython",
    "version": 3
   },
   "file_extension": ".py",
   "mimetype": "text/x-python",
   "name": "python",
   "nbconvert_exporter": "python",
   "pygments_lexer": "ipython3",
   "version": "3.7.0"
  }
 },
 "nbformat": 4,
 "nbformat_minor": 2
}
