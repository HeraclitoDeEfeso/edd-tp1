{
 "cells": [
  {
   "cell_type": "markdown",
   "metadata": {},
   "source": [
    "# Módulo `monstruo`\n",
    "El módulo monstruo contiene la implementación de la clase Monstruo que contiene informacion como la vida restante, la cantidad de ataques especiales disponibles y los elementos que dispone.\n",
    "\n",
    "## Clase `Monstruo`\n",
    "La clase Monstruo se encarga de crear los ataques segun que elementos tenga y ademas de recibirlos, tambien se le puede preguntar cuales elementos tiene para asi crear un ataque."
   ]
  },
  {
   "cell_type": "code",
   "execution_count": 1,
   "metadata": {
    "scrolled": false
   },
   "outputs": [
    {
     "data": {
      "text/plain": [
       "<batalla.monstruo.Monstruo at 0xae4a550>"
      ]
     },
     "execution_count": 1,
     "metadata": {},
     "output_type": "execute_result"
    }
   ],
   "source": [
    "#Import desde directorio raiz del proyecto\n",
    "%cd -q ..\n",
    "\n",
    "from batalla.monstruo import Monstruo\n",
    "from batalla.elemento import Elemento\n",
    "Monstruo(Elemento.TIERRA, Elemento.FUEGO)"
   ]
  },
  {
   "cell_type": "markdown",
   "metadata": {},
   "source": [
    "Un monstruo no puede crearse con dos elementos iguales o sin elementos"
   ]
  },
  {
   "cell_type": "code",
   "execution_count": 2,
   "metadata": {},
   "outputs": [
    {
     "name": "stdout",
     "output_type": "stream",
     "text": [
      "los elementos deben ser diferentes\n"
     ]
    }
   ],
   "source": [
    "try:\n",
    "    error_uno = Monstruo(Elemento.FUEGO, Elemento.FUEGO)\n",
    "except Exception as e:\n",
    "        print(e)"
   ]
  },
  {
   "cell_type": "code",
   "execution_count": 3,
   "metadata": {},
   "outputs": [
    {
     "name": "stdout",
     "output_type": "stream",
     "text": [
      "los dos elementos no pueden ser nulos\n"
     ]
    }
   ],
   "source": [
    "try:\n",
    "    error_uno = Monstruo(Elemento.NADA, Elemento.NADA)\n",
    "except Exception as e:\n",
    "        print(e)"
   ]
  },
  {
   "cell_type": "markdown",
   "metadata": {},
   "source": [
    "## Método generar_opciones\n",
    "El método generar_opciones devuelve una lista con los elementos del Monstruo para que la batalla le pueda dar las opciones de ataque al usuario"
   ]
  },
  {
   "cell_type": "code",
   "execution_count": 4,
   "metadata": {
    "scrolled": true
   },
   "outputs": [
    {
     "data": {
      "text/plain": [
       "[<Elemento.TIERRA: ('AIRE', 'AGUA')>, <Elemento.FUEGO: ('TIERRA', 'AIRE')>]"
      ]
     },
     "execution_count": 4,
     "metadata": {},
     "output_type": "execute_result"
    }
   ],
   "source": [
    "mi_Monstruo = Monstruo(Elemento.TIERRA, Elemento.FUEGO)\n",
    "mi_Monstruo.generar_opciones()"
   ]
  },
  {
   "cell_type": "markdown",
   "metadata": {},
   "source": [
    "## Método generar_ataque\n",
    "El método generar_ataque crea un ataque con uno de los elementos con los que fue creados y lo devuelve permitiendo que la batalla se lo lanze a otro monstruo"
   ]
  },
  {
   "cell_type": "code",
   "execution_count": 5,
   "metadata": {},
   "outputs": [
    {
     "data": {
      "text/plain": [
       "<batalla.ataque.Ataque at 0xae4af90>"
      ]
     },
     "execution_count": 5,
     "metadata": {},
     "output_type": "execute_result"
    }
   ],
   "source": [
    "mi_Monstruo.generar_ataque(Elemento.TIERRA)"
   ]
  },
  {
   "cell_type": "markdown",
   "metadata": {},
   "source": [
    "Si colocamos un elemento que el monstruo no posee se lanzara un error del que se ocupa la batalla"
   ]
  },
  {
   "cell_type": "code",
   "execution_count": 6,
   "metadata": {
    "scrolled": true
   },
   "outputs": [
    {
     "name": "stdout",
     "output_type": "stream",
     "text": [
      "el monstruo no tiene ese elemento\n"
     ]
    }
   ],
   "source": [
    "try:\n",
    "    mi_Monstruo.generar_ataque(Elemento.AGUA)\n",
    "except Exception as e:\n",
    "        print(e)"
   ]
  },
  {
   "cell_type": "markdown",
   "metadata": {},
   "source": [
    "# Método generar_ataque_especial\n",
    "El método generar_ataque_especial crea un ataque especial con uno de los elementos con los que fue creados y lo devuelve permitiendo que la batalla se lo lanze a otro monstruo solo si ataques_especiales_restantes__ es mayor a 0"
   ]
  },
  {
   "cell_type": "code",
   "execution_count": 7,
   "metadata": {},
   "outputs": [
    {
     "data": {
      "text/plain": [
       "<batalla.ataque.Ataque_especial at 0x93dd7d0>"
      ]
     },
     "execution_count": 7,
     "metadata": {},
     "output_type": "execute_result"
    }
   ],
   "source": [
    "mi_Monstruo.generar_ataque_especial(Elemento.TIERRA)"
   ]
  },
  {
   "cell_type": "code",
   "execution_count": 8,
   "metadata": {},
   "outputs": [
    {
     "name": "stdout",
     "output_type": "stream",
     "text": [
      "no te quedan mas ataques especiales\n"
     ]
    }
   ],
   "source": [
    "\n",
    "monstruo_especial = Monstruo(Elemento.TIERRA, Elemento.FUEGO)\n",
    "monstruo_especial.generar_ataque_especial(Elemento.TIERRA)\n",
    "monstruo_especial.generar_ataque_especial(Elemento.TIERRA)\n",
    "monstruo_especial.generar_ataque_especial(Elemento.TIERRA)\n",
    "monstruo_especial.generar_ataque_especial(Elemento.TIERRA)\n",
    "try:\n",
    "    monstruo_especial.generar_ataque_especial(Elemento.TIERRA)\n",
    "except Exception as e:\n",
    "        print(e)"
   ]
  },
  {
   "cell_type": "markdown",
   "metadata": {},
   "source": [
    "# Método recibir_ataque\n",
    "El método recibir_ataque recibe como parametro un ataque(puede ser un ataque especial) y descuenta de __estado_vital__ la cantidad que indique el calculo de daño realizado por la clase ataque."
   ]
  },
  {
   "cell_type": "code",
   "execution_count": 9,
   "metadata": {},
   "outputs": [
    {
     "name": "stdout",
     "output_type": "stream",
     "text": [
      "90\n"
     ]
    }
   ],
   "source": [
    "atacante = Monstruo(Elemento.TIERRA, Elemento.FUEGO)\n",
    "defensor = Monstruo(Elemento.TIERRA, Elemento.FUEGO)\n",
    "\n",
    "ataque = atacante.generar_ataque(Elemento.TIERRA)\n",
    "defensor.recibir_ataque(ataque)\n",
    "print(defensor.__estado_vital__)"
   ]
  },
  {
   "cell_type": "code",
   "execution_count": 10,
   "metadata": {},
   "outputs": [
    {
     "name": "stdout",
     "output_type": "stream",
     "text": [
      "85\n"
     ]
    }
   ],
   "source": [
    "atacante = Monstruo(Elemento.TIERRA, Elemento.FUEGO)\n",
    "defensor = Monstruo(Elemento.TIERRA, Elemento.FUEGO)\n",
    "\n",
    "ataque_especial = atacante.generar_ataque_especial(Elemento.TIERRA)\n",
    "defensor.recibir_ataque(ataque_especial)\n",
    "print(defensor.__estado_vital__)"
   ]
  }
 ],
 "metadata": {
  "kernelspec": {
   "display_name": "Python 3 (Spyder)",
   "language": "python3",
   "name": "python3"
  },
  "language_info": {
   "codemirror_mode": {
    "name": "ipython",
    "version": 3
   },
   "file_extension": ".py",
   "mimetype": "text/x-python",
   "name": "python",
   "nbconvert_exporter": "python",
   "pygments_lexer": "ipython3",
   "version": "3.7.0"
  }
 },
 "nbformat": 4,
 "nbformat_minor": 2
}
